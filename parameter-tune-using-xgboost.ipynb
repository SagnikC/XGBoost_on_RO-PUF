{
 "cells": [
  {
   "cell_type": "markdown",
   "metadata": {},
   "source": [
    "# Parameter Tuning using XGBoost"
   ]
  },
  {
   "cell_type": "markdown",
   "metadata": {},
   "source": [
    "## Import Libraries"
   ]
  },
  {
   "cell_type": "code",
   "execution_count": 3,
   "metadata": {},
   "outputs": [],
   "source": [
    "import pandas as pd\n",
    "import numpy as np\n",
    "from sklearn import cross_validation, metrics   #Additional scklearn functions\n",
    "from sklearn.grid_search import GridSearchCV \n",
    "import xgboost as xgb\n",
    "from xgboost.sklearn import XGBClassifier"
   ]
  },
  {
   "cell_type": "markdown",
   "metadata": {},
   "source": [
    "## Importing the dataset"
   ]
  },
  {
   "cell_type": "code",
   "execution_count": 5,
   "metadata": {},
   "outputs": [
    {
     "name": "stdout",
     "output_type": "stream",
     "text": [
      "4751\n",
      "1584\n"
     ]
    }
   ],
   "source": [
    "dataset = pd.read_csv('data.csv')\n",
    "X_train = dataset.iloc[:4751, [0,1]]\n",
    "y_train = dataset.iloc[:4751, 2]\n",
    "X_test = dataset.iloc[4751:, [0,1]]\n",
    "y_test = dataset.iloc[4751:, 2]\n",
    "print(len(X_train))\n",
    "print(len(X_test))"
   ]
  },
  {
   "cell_type": "markdown",
   "metadata": {},
   "source": [
    "## Function : Create XGBoost models and perform cross-validation"
   ]
  },
  {
   "cell_type": "code",
   "execution_count": 6,
   "metadata": {},
   "outputs": [],
   "source": [
    "def modelfit(alg, useTrainCV=True, cv_folds=5, early_stopping_rounds=50):\n",
    "    \n",
    "    if useTrainCV:\n",
    "        xgb_param = alg.get_xgb_params()\n",
    "        xgtrain = xgb.DMatrix(X_train.values, label=y_train.values)\n",
    "        cvresult = xgb.cv(xgb_param, xgtrain, num_boost_round=alg.get_params()['n_estimators'], nfold=cv_folds,\n",
    "            metrics='auc', early_stopping_rounds=early_stopping_rounds)\n",
    "        alg.set_params(n_estimators=cvresult.shape[0])\n",
    "    \n",
    "    #Fit the algorithm on the data\n",
    "    alg.fit(X_train, y_train,eval_metric='auc')\n",
    "        \n",
    "    #Predict training set:\n",
    "    dtrain_predictions = alg.predict(X_train)\n",
    "    dtrain_predprob = alg.predict_proba(X_train)[:,1]\n",
    "        \n",
    "    #Print model report:\n",
    "    print (\"\\nModel Report\")\n",
    "    print (\"Training Accuracy : %.4g\" % metrics.accuracy_score(y_train.values, dtrain_predictions))\n",
    "    print (\"Confusion Matrix for Train : \",metrics.confusion_matrix(y_train.values.tolist(), dtrain_predictions.tolist()))\n",
    "    print (\"AUC Score (Train): %f\" % metrics.roc_auc_score(y_train, dtrain_predprob))\n",
    "                    \n",
    "    dtest_predictions = alg.predict(X_test)\n",
    "    dtest_predprob = alg.predict_proba(X_test)[:,1]\n",
    "    print (\"Test Accuracy : %.4g\" % metrics.accuracy_score(y_test.values, dtest_predictions))\n",
    "    print (\"Confusion Matrix for Test : \",metrics.confusion_matrix(y_test.values.tolist(), dtest_predictions.tolist()))\n",
    "    print (\"AUC Score (Test): %f\" % metrics.roc_auc_score(y_test, dtest_predprob))"
   ]
  },
  {
   "cell_type": "markdown",
   "metadata": {},
   "source": [
    "## Find the number of estimators for a high learning rate = 0.1"
   ]
  },
  {
   "cell_type": "code",
   "execution_count": 7,
   "metadata": {},
   "outputs": [
    {
     "name": "stdout",
     "output_type": "stream",
     "text": [
      "\n",
      "Model Report\n",
      "Training Accuracy : 0.8918\n",
      "Confusion Matrix for Train :  [[2097  278]\n",
      " [ 236 2140]]\n",
      "AUC Score (Train): 0.962408\n",
      "Test Accuracy : 0.5019\n",
      "Confusion Matrix for Test :  [[795   0]\n",
      " [789   0]]\n",
      "AUC Score (Test): 0.499837\n"
     ]
    },
    {
     "name": "stderr",
     "output_type": "stream",
     "text": [
      "C:\\ProgramData\\Anaconda3\\envs\\tensorflow\\lib\\site-packages\\sklearn\\preprocessing\\label.py:151: DeprecationWarning: The truth value of an empty array is ambiguous. Returning False, but in future this will result in an error. Use `array.size > 0` to check that an array is not empty.\n",
      "  if diff:\n",
      "C:\\ProgramData\\Anaconda3\\envs\\tensorflow\\lib\\site-packages\\sklearn\\preprocessing\\label.py:151: DeprecationWarning: The truth value of an empty array is ambiguous. Returning False, but in future this will result in an error. Use `array.size > 0` to check that an array is not empty.\n",
      "  if diff:\n"
     ]
    }
   ],
   "source": [
    "xgb1 = XGBClassifier(\n",
    " learning_rate =0.1,\n",
    " n_estimators=1000,\n",
    " max_depth=5,\n",
    " min_child_weight=1,\n",
    " gamma=0,\n",
    " subsample=0.8,\n",
    " colsample_bytree=0.8,\n",
    " objective= 'binary:logistic',\n",
    " nthread=4,\n",
    " scale_pos_weight=1,\n",
    " seed=27)\n",
    "modelfit(xgb1)"
   ]
  },
  {
   "cell_type": "markdown",
   "metadata": {},
   "source": [
    "# Tune parameters :\n",
    "      - min_child_weight [default=1]\n",
    "Defines the minimum sum of weights of all observations required in a child.\n",
    "This is similar to min_child_leaf in GBM but not exactly. This refers to min “sum of weights” of observations while GBM has min “number of observations”.\n",
    "Used to control over-fitting. Higher values prevent a model from learning relations which might be highly specific to the particular sample selected for a tree.\n",
    "Too high values can lead to under-fitting hence, it should be tuned using CV.\n",
    "      - max_depth [default=6]\n",
    "The maximum depth of a tree, same as GBM.\n",
    "Used to control over-fitting as higher depth will allow model to learn relations very specific to a particular sample.\n",
    "Should be tuned using CV.\n",
    "Typical values: 3-10"
   ]
  },
  {
   "cell_type": "code",
   "execution_count": 8,
   "metadata": {},
   "outputs": [
    {
     "data": {
      "text/plain": [
       "GridSearchCV(cv=5, error_score='raise',\n",
       "       estimator=XGBClassifier(base_score=0.5, booster='gbtree', colsample_bylevel=1,\n",
       "       colsample_bytree=0.8, gamma=0, learning_rate=0.1, max_delta_step=0,\n",
       "       max_depth=5, min_child_weight=1, missing=None, n_estimators=140,\n",
       "       n_jobs=1, nthread=4, objective='binary:logistic', random_state=0,\n",
       "       reg_alpha=0, reg_lambda=1, scale_pos_weight=1, seed=27, silent=True,\n",
       "       subsample=0.8),\n",
       "       fit_params={}, iid=False, n_jobs=4,\n",
       "       param_grid={'max_depth': [3, 5, 7, 9], 'min_child_weight': [1, 3, 5]},\n",
       "       pre_dispatch='2*n_jobs', refit=True, scoring='roc_auc', verbose=0)"
      ]
     },
     "execution_count": 8,
     "metadata": {},
     "output_type": "execute_result"
    }
   ],
   "source": [
    "param_test1 = {\n",
    "    'max_depth':[3,5,7,9],\n",
    "    'min_child_weight':[1,3,5]\n",
    "}\n",
    "gsearch1 = GridSearchCV(estimator = XGBClassifier( learning_rate =0.1, n_estimators=140, max_depth=5,\n",
    "                                        min_child_weight=1, gamma=0, subsample=0.8, colsample_bytree=0.8,\n",
    "                                        objective= 'binary:logistic', nthread=4, scale_pos_weight=1, seed=27), \n",
    "                       param_grid = param_test1, scoring='roc_auc',n_jobs=4,iid=False, cv=5)\n",
    "gsearch1.fit(X_train,y_train)"
   ]
  },
  {
   "cell_type": "markdown",
   "metadata": {},
   "source": [
    "### Find the best values for these parameters"
   ]
  },
  {
   "cell_type": "code",
   "execution_count": 9,
   "metadata": {},
   "outputs": [
    {
     "data": {
      "text/plain": [
       "([mean: 0.52774, std: 0.01210, params: {'max_depth': 3, 'min_child_weight': 1},\n",
       "  mean: 0.54045, std: 0.01407, params: {'max_depth': 3, 'min_child_weight': 3},\n",
       "  mean: 0.52816, std: 0.01841, params: {'max_depth': 3, 'min_child_weight': 5},\n",
       "  mean: 0.54001, std: 0.02165, params: {'max_depth': 5, 'min_child_weight': 1},\n",
       "  mean: 0.54137, std: 0.03514, params: {'max_depth': 5, 'min_child_weight': 3},\n",
       "  mean: 0.55900, std: 0.05636, params: {'max_depth': 5, 'min_child_weight': 5},\n",
       "  mean: 0.52744, std: 0.02917, params: {'max_depth': 7, 'min_child_weight': 1},\n",
       "  mean: 0.53959, std: 0.02696, params: {'max_depth': 7, 'min_child_weight': 3},\n",
       "  mean: 0.54945, std: 0.04618, params: {'max_depth': 7, 'min_child_weight': 5},\n",
       "  mean: 0.53576, std: 0.02562, params: {'max_depth': 9, 'min_child_weight': 1},\n",
       "  mean: 0.53831, std: 0.02415, params: {'max_depth': 9, 'min_child_weight': 3},\n",
       "  mean: 0.55463, std: 0.04144, params: {'max_depth': 9, 'min_child_weight': 5}],\n",
       " {'max_depth': 5, 'min_child_weight': 5},\n",
       " 0.5590018138224819)"
      ]
     },
     "execution_count": 9,
     "metadata": {},
     "output_type": "execute_result"
    }
   ],
   "source": [
    "gsearch1.grid_scores_, gsearch1.best_params_, gsearch1.best_score_"
   ]
  },
  {
   "cell_type": "markdown",
   "metadata": {},
   "source": [
    "### Values found for\n",
    " - max_depth : 5\n",
    " - min_child_weight : 5\n",
    " \n",
    "We’ll search for values 1 above and below the optimum values because we took an interval of two."
   ]
  },
  {
   "cell_type": "code",
   "execution_count": 10,
   "metadata": {},
   "outputs": [
    {
     "data": {
      "text/plain": [
       "GridSearchCV(cv=5, error_score='raise',\n",
       "       estimator=XGBClassifier(base_score=0.5, booster='gbtree', colsample_bylevel=1,\n",
       "       colsample_bytree=0.8, gamma=0, learning_rate=0.1, max_delta_step=0,\n",
       "       max_depth=5, min_child_weight=2, missing=None, n_estimators=140,\n",
       "       n_jobs=1, nthread=4, objective='binary:logistic', random_state=0,\n",
       "       reg_alpha=0, reg_lambda=1, scale_pos_weight=1, seed=27, silent=True,\n",
       "       subsample=0.8),\n",
       "       fit_params={}, iid=False, n_jobs=4,\n",
       "       param_grid={'max_depth': [4, 5, 6], 'min_child_weight': [4, 5, 6]},\n",
       "       pre_dispatch='2*n_jobs', refit=True, scoring='roc_auc', verbose=0)"
      ]
     },
     "execution_count": 10,
     "metadata": {},
     "output_type": "execute_result"
    }
   ],
   "source": [
    "param_test2 = {\n",
    "    'max_depth':[4,5,6],\n",
    "    'min_child_weight':[4,5,6]\n",
    "}\n",
    "gsearch2 = GridSearchCV(estimator = XGBClassifier( learning_rate=0.1, n_estimators=140, max_depth=5,\n",
    "                                        min_child_weight=2, gamma=0, subsample=0.8, colsample_bytree=0.8,\n",
    "                                        objective= 'binary:logistic', nthread=4, scale_pos_weight=1,seed=27), \n",
    "                       param_grid = param_test2, scoring='roc_auc',n_jobs=4,iid=False, cv=5)\n",
    "gsearch2.fit(X_train,y_train)"
   ]
  },
  {
   "cell_type": "markdown",
   "metadata": {},
   "source": [
    "### Find the best values for these parameters"
   ]
  },
  {
   "cell_type": "code",
   "execution_count": 11,
   "metadata": {},
   "outputs": [
    {
     "data": {
      "text/plain": [
       "([mean: 0.54403, std: 0.04351, params: {'max_depth': 4, 'min_child_weight': 4},\n",
       "  mean: 0.54346, std: 0.04918, params: {'max_depth': 4, 'min_child_weight': 5},\n",
       "  mean: 0.54749, std: 0.04520, params: {'max_depth': 4, 'min_child_weight': 6},\n",
       "  mean: 0.53697, std: 0.02918, params: {'max_depth': 5, 'min_child_weight': 4},\n",
       "  mean: 0.55900, std: 0.05636, params: {'max_depth': 5, 'min_child_weight': 5},\n",
       "  mean: 0.54870, std: 0.04701, params: {'max_depth': 5, 'min_child_weight': 6},\n",
       "  mean: 0.54540, std: 0.04090, params: {'max_depth': 6, 'min_child_weight': 4},\n",
       "  mean: 0.55273, std: 0.05221, params: {'max_depth': 6, 'min_child_weight': 5},\n",
       "  mean: 0.55549, std: 0.04268, params: {'max_depth': 6, 'min_child_weight': 6}],\n",
       " {'max_depth': 5, 'min_child_weight': 5},\n",
       " 0.5590018138224819)"
      ]
     },
     "execution_count": 11,
     "metadata": {},
     "output_type": "execute_result"
    }
   ],
   "source": [
    "gsearch2.grid_scores_, gsearch2.best_params_, gsearch2.best_score_"
   ]
  },
  {
   "cell_type": "markdown",
   "metadata": {},
   "source": [
    "## Tune parameter :\n",
    "    gamma [default=0]\n",
    "A node is split only when the resulting split gives a positive reduction in the loss function. Gamma specifies the minimum loss reduction required to make a split.\n",
    "Makes the algorithm conservative. The values can vary depending on the loss function and should be tuned."
   ]
  },
  {
   "cell_type": "code",
   "execution_count": 12,
   "metadata": {},
   "outputs": [
    {
     "data": {
      "text/plain": [
       "GridSearchCV(cv=5, error_score='raise',\n",
       "       estimator=XGBClassifier(base_score=0.5, booster='gbtree', colsample_bylevel=1,\n",
       "       colsample_bytree=0.8, gamma=0, learning_rate=0.1, max_delta_step=0,\n",
       "       max_depth=5, min_child_weight=5, missing=None, n_estimators=140,\n",
       "       n_jobs=1, nthread=4, objective='binary:logistic', random_state=0,\n",
       "       reg_alpha=0, reg_lambda=1, scale_pos_weight=1, seed=27, silent=True,\n",
       "       subsample=0.8),\n",
       "       fit_params={}, iid=False, n_jobs=4,\n",
       "       param_grid={'gamma': [0.0, 0.1, 0.2, 0.3, 0.4]},\n",
       "       pre_dispatch='2*n_jobs', refit=True, scoring='roc_auc', verbose=0)"
      ]
     },
     "execution_count": 12,
     "metadata": {},
     "output_type": "execute_result"
    }
   ],
   "source": [
    "param_test3 = {\n",
    " 'gamma':[i/10.0 for i in range(0,5)]\n",
    "}\n",
    "gsearch3 = GridSearchCV(estimator = XGBClassifier( learning_rate =0.1, n_estimators=140, max_depth=5,\n",
    " min_child_weight=5, gamma=0, subsample=0.8, colsample_bytree=0.8,\n",
    " objective= 'binary:logistic', nthread=4, scale_pos_weight=1,seed=27), \n",
    " param_grid = param_test3, scoring='roc_auc',n_jobs=4,iid=False, cv=5)\n",
    "gsearch3.fit(X_train,y_train)"
   ]
  },
  {
   "cell_type": "markdown",
   "metadata": {},
   "source": [
    "### Find the best value for this parameter"
   ]
  },
  {
   "cell_type": "code",
   "execution_count": 13,
   "metadata": {},
   "outputs": [
    {
     "data": {
      "text/plain": [
       "([mean: 0.55900, std: 0.05636, params: {'gamma': 0.0},\n",
       "  mean: 0.55220, std: 0.04826, params: {'gamma': 0.1},\n",
       "  mean: 0.54786, std: 0.05588, params: {'gamma': 0.2},\n",
       "  mean: 0.55177, std: 0.05480, params: {'gamma': 0.3},\n",
       "  mean: 0.55240, std: 0.05388, params: {'gamma': 0.4}],\n",
       " {'gamma': 0.0},\n",
       " 0.5590018138224819)"
      ]
     },
     "execution_count": 13,
     "metadata": {},
     "output_type": "execute_result"
    }
   ],
   "source": [
    "gsearch3.grid_scores_, gsearch3.best_params_, gsearch3.best_score_"
   ]
  },
  {
   "cell_type": "markdown",
   "metadata": {},
   "source": [
    "## Re-calibrate the number of boosting rounds for the updated parameters."
   ]
  },
  {
   "cell_type": "code",
   "execution_count": 14,
   "metadata": {},
   "outputs": [
    {
     "name": "stdout",
     "output_type": "stream",
     "text": [
      "\n",
      "Model Report\n",
      "Training Accuracy : 0.8931\n",
      "Confusion Matrix for Train :  [[2109  266]\n",
      " [ 242 2134]]\n",
      "AUC Score (Train): 0.964310\n",
      "Test Accuracy : 0.4981\n",
      "Confusion Matrix for Test :  [[384 411]\n",
      " [384 405]]\n",
      "AUC Score (Test): 0.507337\n"
     ]
    },
    {
     "name": "stderr",
     "output_type": "stream",
     "text": [
      "C:\\ProgramData\\Anaconda3\\envs\\tensorflow\\lib\\site-packages\\sklearn\\preprocessing\\label.py:151: DeprecationWarning: The truth value of an empty array is ambiguous. Returning False, but in future this will result in an error. Use `array.size > 0` to check that an array is not empty.\n",
      "  if diff:\n",
      "C:\\ProgramData\\Anaconda3\\envs\\tensorflow\\lib\\site-packages\\sklearn\\preprocessing\\label.py:151: DeprecationWarning: The truth value of an empty array is ambiguous. Returning False, but in future this will result in an error. Use `array.size > 0` to check that an array is not empty.\n",
      "  if diff:\n"
     ]
    }
   ],
   "source": [
    "xgb2 = XGBClassifier(\n",
    " learning_rate =0.1,\n",
    " n_estimators=1000,\n",
    " max_depth=5,\n",
    " min_child_weight=5,\n",
    " gamma=0,\n",
    " subsample=0.8,\n",
    " colsample_bytree=0.8,\n",
    " objective= 'binary:logistic',\n",
    " nthread=4,\n",
    " scale_pos_weight=1,\n",
    " seed=27)\n",
    "modelfit(xgb2)"
   ]
  },
  {
   "cell_type": "markdown",
   "metadata": {},
   "source": [
    "## Tune parameters :\n",
    " - subsample [default=1]\n",
    " \n",
    "Same as the subsample of GBM. Denotes the fraction of observations to be randomly samples for each tree.\n",
    "Lower values make the algorithm more conservative and prevents overfitting but too small values might lead to under-fitting.\n",
    "Typical values: 0.5-1\n",
    " - colsample_bytree [default=1]\n",
    " \n",
    "Similar to max_features in GBM. Denotes the fraction of columns to be randomly samples for each tree.\n",
    "Typical values: 0.5-1"
   ]
  },
  {
   "cell_type": "code",
   "execution_count": 15,
   "metadata": {},
   "outputs": [
    {
     "data": {
      "text/plain": [
       "GridSearchCV(cv=5, error_score='raise',\n",
       "       estimator=XGBClassifier(base_score=0.5, booster='gbtree', colsample_bylevel=1,\n",
       "       colsample_bytree=0.8, gamma=0, learning_rate=0.1, max_delta_step=0,\n",
       "       max_depth=5, min_child_weight=5, missing=None, n_estimators=177,\n",
       "       n_jobs=1, nthread=4, objective='binary:logistic', random_state=0,\n",
       "       reg_alpha=0, reg_lambda=1, scale_pos_weight=1, seed=27, silent=True,\n",
       "       subsample=0.8),\n",
       "       fit_params={}, iid=False, n_jobs=4,\n",
       "       param_grid={'subsample': [0.1, 0.2, 0.3, 0.4, 0.5], 'colsample_bytree': [0.1, 0.2, 0.3, 0.4, 0.5]},\n",
       "       pre_dispatch='2*n_jobs', refit=True, scoring='roc_auc', verbose=0)"
      ]
     },
     "execution_count": 15,
     "metadata": {},
     "output_type": "execute_result"
    }
   ],
   "source": [
    "param_test4 = {\n",
    " 'subsample':[i/10.0 for i in range(1,6)],\n",
    " 'colsample_bytree':[i/10.0 for i in range(1,6)]\n",
    "}\n",
    "gsearch4 = GridSearchCV(estimator = XGBClassifier( learning_rate =0.1, n_estimators=177, max_depth=5,\n",
    " min_child_weight=5, gamma=0, subsample=0.8, colsample_bytree=0.8,\n",
    " objective= 'binary:logistic', nthread=4, scale_pos_weight=1,seed=27), \n",
    " param_grid = param_test4, scoring='roc_auc',n_jobs=4,iid=False, cv=5)\n",
    "gsearch4.fit(X_train,y_train)"
   ]
  },
  {
   "cell_type": "markdown",
   "metadata": {},
   "source": [
    "### Find the best values for these parameters"
   ]
  },
  {
   "cell_type": "code",
   "execution_count": 16,
   "metadata": {},
   "outputs": [
    {
     "data": {
      "text/plain": [
       "([mean: 0.52957, std: 0.02041, params: {'colsample_bytree': 0.1, 'subsample': 0.1},\n",
       "  mean: 0.52419, std: 0.02506, params: {'colsample_bytree': 0.1, 'subsample': 0.2},\n",
       "  mean: 0.52938, std: 0.03721, params: {'colsample_bytree': 0.1, 'subsample': 0.3},\n",
       "  mean: 0.53954, std: 0.03031, params: {'colsample_bytree': 0.1, 'subsample': 0.4},\n",
       "  mean: 0.52878, std: 0.03035, params: {'colsample_bytree': 0.1, 'subsample': 0.5},\n",
       "  mean: 0.52957, std: 0.02041, params: {'colsample_bytree': 0.2, 'subsample': 0.1},\n",
       "  mean: 0.52419, std: 0.02506, params: {'colsample_bytree': 0.2, 'subsample': 0.2},\n",
       "  mean: 0.52938, std: 0.03721, params: {'colsample_bytree': 0.2, 'subsample': 0.3},\n",
       "  mean: 0.53954, std: 0.03031, params: {'colsample_bytree': 0.2, 'subsample': 0.4},\n",
       "  mean: 0.52878, std: 0.03035, params: {'colsample_bytree': 0.2, 'subsample': 0.5},\n",
       "  mean: 0.52957, std: 0.02041, params: {'colsample_bytree': 0.3, 'subsample': 0.1},\n",
       "  mean: 0.52419, std: 0.02506, params: {'colsample_bytree': 0.3, 'subsample': 0.2},\n",
       "  mean: 0.52938, std: 0.03721, params: {'colsample_bytree': 0.3, 'subsample': 0.3},\n",
       "  mean: 0.53954, std: 0.03031, params: {'colsample_bytree': 0.3, 'subsample': 0.4},\n",
       "  mean: 0.52878, std: 0.03035, params: {'colsample_bytree': 0.3, 'subsample': 0.5},\n",
       "  mean: 0.52957, std: 0.02041, params: {'colsample_bytree': 0.4, 'subsample': 0.1},\n",
       "  mean: 0.52419, std: 0.02506, params: {'colsample_bytree': 0.4, 'subsample': 0.2},\n",
       "  mean: 0.52938, std: 0.03721, params: {'colsample_bytree': 0.4, 'subsample': 0.3},\n",
       "  mean: 0.53954, std: 0.03031, params: {'colsample_bytree': 0.4, 'subsample': 0.4},\n",
       "  mean: 0.52878, std: 0.03035, params: {'colsample_bytree': 0.4, 'subsample': 0.5},\n",
       "  mean: 0.52957, std: 0.02041, params: {'colsample_bytree': 0.5, 'subsample': 0.1},\n",
       "  mean: 0.52419, std: 0.02506, params: {'colsample_bytree': 0.5, 'subsample': 0.2},\n",
       "  mean: 0.52938, std: 0.03721, params: {'colsample_bytree': 0.5, 'subsample': 0.3},\n",
       "  mean: 0.53954, std: 0.03031, params: {'colsample_bytree': 0.5, 'subsample': 0.4},\n",
       "  mean: 0.52878, std: 0.03035, params: {'colsample_bytree': 0.5, 'subsample': 0.5}],\n",
       " {'colsample_bytree': 0.1, 'subsample': 0.4},\n",
       " 0.5395391643194675)"
      ]
     },
     "execution_count": 16,
     "metadata": {},
     "output_type": "execute_result"
    }
   ],
   "source": [
    "gsearch4.grid_scores_, gsearch4.best_params_, gsearch4.best_score_"
   ]
  },
  {
   "cell_type": "markdown",
   "metadata": {},
   "source": [
    "### Values found for :\n",
    " - colsample_bytree : 0.1\n",
    " \n",
    " - subsample : 0.4\n",
    " \n",
    "We search again within smaller ranges of these values"
   ]
  },
  {
   "cell_type": "code",
   "execution_count": 17,
   "metadata": {},
   "outputs": [
    {
     "data": {
      "text/plain": [
       "([mean: 0.53110, std: 0.04119, params: {'colsample_bytree': 0.01, 'subsample': 0.31},\n",
       "  mean: 0.53116, std: 0.03836, params: {'colsample_bytree': 0.01, 'subsample': 0.32},\n",
       "  mean: 0.54102, std: 0.03774, params: {'colsample_bytree': 0.01, 'subsample': 0.33},\n",
       "  mean: 0.53241, std: 0.02749, params: {'colsample_bytree': 0.01, 'subsample': 0.34},\n",
       "  mean: 0.52512, std: 0.03791, params: {'colsample_bytree': 0.01, 'subsample': 0.35},\n",
       "  mean: 0.52654, std: 0.03452, params: {'colsample_bytree': 0.01, 'subsample': 0.36},\n",
       "  mean: 0.54073, std: 0.03253, params: {'colsample_bytree': 0.01, 'subsample': 0.37},\n",
       "  mean: 0.54609, std: 0.03266, params: {'colsample_bytree': 0.01, 'subsample': 0.38},\n",
       "  mean: 0.54474, std: 0.04573, params: {'colsample_bytree': 0.01, 'subsample': 0.39},\n",
       "  mean: 0.53954, std: 0.03031, params: {'colsample_bytree': 0.01, 'subsample': 0.4},\n",
       "  mean: 0.53912, std: 0.03441, params: {'colsample_bytree': 0.01, 'subsample': 0.41},\n",
       "  mean: 0.54979, std: 0.03874, params: {'colsample_bytree': 0.01, 'subsample': 0.42},\n",
       "  mean: 0.53693, std: 0.03060, params: {'colsample_bytree': 0.01, 'subsample': 0.43},\n",
       "  mean: 0.52849, std: 0.03926, params: {'colsample_bytree': 0.01, 'subsample': 0.44},\n",
       "  mean: 0.52920, std: 0.03488, params: {'colsample_bytree': 0.01, 'subsample': 0.45},\n",
       "  mean: 0.53662, std: 0.03389, params: {'colsample_bytree': 0.01, 'subsample': 0.46},\n",
       "  mean: 0.54185, std: 0.03837, params: {'colsample_bytree': 0.01, 'subsample': 0.47},\n",
       "  mean: 0.53120, std: 0.02783, params: {'colsample_bytree': 0.01, 'subsample': 0.48},\n",
       "  mean: 0.53110, std: 0.04119, params: {'colsample_bytree': 0.02, 'subsample': 0.31},\n",
       "  mean: 0.53116, std: 0.03836, params: {'colsample_bytree': 0.02, 'subsample': 0.32},\n",
       "  mean: 0.54102, std: 0.03774, params: {'colsample_bytree': 0.02, 'subsample': 0.33},\n",
       "  mean: 0.53241, std: 0.02749, params: {'colsample_bytree': 0.02, 'subsample': 0.34},\n",
       "  mean: 0.52512, std: 0.03791, params: {'colsample_bytree': 0.02, 'subsample': 0.35},\n",
       "  mean: 0.52654, std: 0.03452, params: {'colsample_bytree': 0.02, 'subsample': 0.36},\n",
       "  mean: 0.54073, std: 0.03253, params: {'colsample_bytree': 0.02, 'subsample': 0.37},\n",
       "  mean: 0.54609, std: 0.03266, params: {'colsample_bytree': 0.02, 'subsample': 0.38},\n",
       "  mean: 0.54474, std: 0.04573, params: {'colsample_bytree': 0.02, 'subsample': 0.39},\n",
       "  mean: 0.53954, std: 0.03031, params: {'colsample_bytree': 0.02, 'subsample': 0.4},\n",
       "  mean: 0.53912, std: 0.03441, params: {'colsample_bytree': 0.02, 'subsample': 0.41},\n",
       "  mean: 0.54979, std: 0.03874, params: {'colsample_bytree': 0.02, 'subsample': 0.42},\n",
       "  mean: 0.53693, std: 0.03060, params: {'colsample_bytree': 0.02, 'subsample': 0.43},\n",
       "  mean: 0.52849, std: 0.03926, params: {'colsample_bytree': 0.02, 'subsample': 0.44},\n",
       "  mean: 0.52920, std: 0.03488, params: {'colsample_bytree': 0.02, 'subsample': 0.45},\n",
       "  mean: 0.53662, std: 0.03389, params: {'colsample_bytree': 0.02, 'subsample': 0.46},\n",
       "  mean: 0.54185, std: 0.03837, params: {'colsample_bytree': 0.02, 'subsample': 0.47},\n",
       "  mean: 0.53120, std: 0.02783, params: {'colsample_bytree': 0.02, 'subsample': 0.48},\n",
       "  mean: 0.53110, std: 0.04119, params: {'colsample_bytree': 0.03, 'subsample': 0.31},\n",
       "  mean: 0.53116, std: 0.03836, params: {'colsample_bytree': 0.03, 'subsample': 0.32},\n",
       "  mean: 0.54102, std: 0.03774, params: {'colsample_bytree': 0.03, 'subsample': 0.33},\n",
       "  mean: 0.53241, std: 0.02749, params: {'colsample_bytree': 0.03, 'subsample': 0.34},\n",
       "  mean: 0.52512, std: 0.03791, params: {'colsample_bytree': 0.03, 'subsample': 0.35},\n",
       "  mean: 0.52654, std: 0.03452, params: {'colsample_bytree': 0.03, 'subsample': 0.36},\n",
       "  mean: 0.54073, std: 0.03253, params: {'colsample_bytree': 0.03, 'subsample': 0.37},\n",
       "  mean: 0.54609, std: 0.03266, params: {'colsample_bytree': 0.03, 'subsample': 0.38},\n",
       "  mean: 0.54474, std: 0.04573, params: {'colsample_bytree': 0.03, 'subsample': 0.39},\n",
       "  mean: 0.53954, std: 0.03031, params: {'colsample_bytree': 0.03, 'subsample': 0.4},\n",
       "  mean: 0.53912, std: 0.03441, params: {'colsample_bytree': 0.03, 'subsample': 0.41},\n",
       "  mean: 0.54979, std: 0.03874, params: {'colsample_bytree': 0.03, 'subsample': 0.42},\n",
       "  mean: 0.53693, std: 0.03060, params: {'colsample_bytree': 0.03, 'subsample': 0.43},\n",
       "  mean: 0.52849, std: 0.03926, params: {'colsample_bytree': 0.03, 'subsample': 0.44},\n",
       "  mean: 0.52920, std: 0.03488, params: {'colsample_bytree': 0.03, 'subsample': 0.45},\n",
       "  mean: 0.53662, std: 0.03389, params: {'colsample_bytree': 0.03, 'subsample': 0.46},\n",
       "  mean: 0.54185, std: 0.03837, params: {'colsample_bytree': 0.03, 'subsample': 0.47},\n",
       "  mean: 0.53120, std: 0.02783, params: {'colsample_bytree': 0.03, 'subsample': 0.48},\n",
       "  mean: 0.53110, std: 0.04119, params: {'colsample_bytree': 0.04, 'subsample': 0.31},\n",
       "  mean: 0.53116, std: 0.03836, params: {'colsample_bytree': 0.04, 'subsample': 0.32},\n",
       "  mean: 0.54102, std: 0.03774, params: {'colsample_bytree': 0.04, 'subsample': 0.33},\n",
       "  mean: 0.53241, std: 0.02749, params: {'colsample_bytree': 0.04, 'subsample': 0.34},\n",
       "  mean: 0.52512, std: 0.03791, params: {'colsample_bytree': 0.04, 'subsample': 0.35},\n",
       "  mean: 0.52654, std: 0.03452, params: {'colsample_bytree': 0.04, 'subsample': 0.36},\n",
       "  mean: 0.54073, std: 0.03253, params: {'colsample_bytree': 0.04, 'subsample': 0.37},\n",
       "  mean: 0.54609, std: 0.03266, params: {'colsample_bytree': 0.04, 'subsample': 0.38},\n",
       "  mean: 0.54474, std: 0.04573, params: {'colsample_bytree': 0.04, 'subsample': 0.39},\n",
       "  mean: 0.53954, std: 0.03031, params: {'colsample_bytree': 0.04, 'subsample': 0.4},\n",
       "  mean: 0.53912, std: 0.03441, params: {'colsample_bytree': 0.04, 'subsample': 0.41},\n",
       "  mean: 0.54979, std: 0.03874, params: {'colsample_bytree': 0.04, 'subsample': 0.42},\n",
       "  mean: 0.53693, std: 0.03060, params: {'colsample_bytree': 0.04, 'subsample': 0.43},\n",
       "  mean: 0.52849, std: 0.03926, params: {'colsample_bytree': 0.04, 'subsample': 0.44},\n",
       "  mean: 0.52920, std: 0.03488, params: {'colsample_bytree': 0.04, 'subsample': 0.45},\n",
       "  mean: 0.53662, std: 0.03389, params: {'colsample_bytree': 0.04, 'subsample': 0.46},\n",
       "  mean: 0.54185, std: 0.03837, params: {'colsample_bytree': 0.04, 'subsample': 0.47},\n",
       "  mean: 0.53120, std: 0.02783, params: {'colsample_bytree': 0.04, 'subsample': 0.48},\n",
       "  mean: 0.53110, std: 0.04119, params: {'colsample_bytree': 0.05, 'subsample': 0.31},\n",
       "  mean: 0.53116, std: 0.03836, params: {'colsample_bytree': 0.05, 'subsample': 0.32},\n",
       "  mean: 0.54102, std: 0.03774, params: {'colsample_bytree': 0.05, 'subsample': 0.33},\n",
       "  mean: 0.53241, std: 0.02749, params: {'colsample_bytree': 0.05, 'subsample': 0.34},\n",
       "  mean: 0.52512, std: 0.03791, params: {'colsample_bytree': 0.05, 'subsample': 0.35},\n",
       "  mean: 0.52654, std: 0.03452, params: {'colsample_bytree': 0.05, 'subsample': 0.36},\n",
       "  mean: 0.54073, std: 0.03253, params: {'colsample_bytree': 0.05, 'subsample': 0.37},\n",
       "  mean: 0.54609, std: 0.03266, params: {'colsample_bytree': 0.05, 'subsample': 0.38},\n",
       "  mean: 0.54474, std: 0.04573, params: {'colsample_bytree': 0.05, 'subsample': 0.39},\n",
       "  mean: 0.53954, std: 0.03031, params: {'colsample_bytree': 0.05, 'subsample': 0.4},\n",
       "  mean: 0.53912, std: 0.03441, params: {'colsample_bytree': 0.05, 'subsample': 0.41},\n",
       "  mean: 0.54979, std: 0.03874, params: {'colsample_bytree': 0.05, 'subsample': 0.42},\n",
       "  mean: 0.53693, std: 0.03060, params: {'colsample_bytree': 0.05, 'subsample': 0.43},\n",
       "  mean: 0.52849, std: 0.03926, params: {'colsample_bytree': 0.05, 'subsample': 0.44},\n",
       "  mean: 0.52920, std: 0.03488, params: {'colsample_bytree': 0.05, 'subsample': 0.45},\n",
       "  mean: 0.53662, std: 0.03389, params: {'colsample_bytree': 0.05, 'subsample': 0.46},\n",
       "  mean: 0.54185, std: 0.03837, params: {'colsample_bytree': 0.05, 'subsample': 0.47},\n",
       "  mean: 0.53120, std: 0.02783, params: {'colsample_bytree': 0.05, 'subsample': 0.48},\n",
       "  mean: 0.53110, std: 0.04119, params: {'colsample_bytree': 0.06, 'subsample': 0.31},\n",
       "  mean: 0.53116, std: 0.03836, params: {'colsample_bytree': 0.06, 'subsample': 0.32},\n",
       "  mean: 0.54102, std: 0.03774, params: {'colsample_bytree': 0.06, 'subsample': 0.33},\n",
       "  mean: 0.53241, std: 0.02749, params: {'colsample_bytree': 0.06, 'subsample': 0.34},\n",
       "  mean: 0.52512, std: 0.03791, params: {'colsample_bytree': 0.06, 'subsample': 0.35},\n",
       "  mean: 0.52654, std: 0.03452, params: {'colsample_bytree': 0.06, 'subsample': 0.36},\n",
       "  mean: 0.54073, std: 0.03253, params: {'colsample_bytree': 0.06, 'subsample': 0.37},\n",
       "  mean: 0.54609, std: 0.03266, params: {'colsample_bytree': 0.06, 'subsample': 0.38},\n",
       "  mean: 0.54474, std: 0.04573, params: {'colsample_bytree': 0.06, 'subsample': 0.39},\n",
       "  mean: 0.53954, std: 0.03031, params: {'colsample_bytree': 0.06, 'subsample': 0.4},\n",
       "  mean: 0.53912, std: 0.03441, params: {'colsample_bytree': 0.06, 'subsample': 0.41},\n",
       "  mean: 0.54979, std: 0.03874, params: {'colsample_bytree': 0.06, 'subsample': 0.42},\n",
       "  mean: 0.53693, std: 0.03060, params: {'colsample_bytree': 0.06, 'subsample': 0.43},\n",
       "  mean: 0.52849, std: 0.03926, params: {'colsample_bytree': 0.06, 'subsample': 0.44},\n",
       "  mean: 0.52920, std: 0.03488, params: {'colsample_bytree': 0.06, 'subsample': 0.45},\n",
       "  mean: 0.53662, std: 0.03389, params: {'colsample_bytree': 0.06, 'subsample': 0.46},\n",
       "  mean: 0.54185, std: 0.03837, params: {'colsample_bytree': 0.06, 'subsample': 0.47},\n",
       "  mean: 0.53120, std: 0.02783, params: {'colsample_bytree': 0.06, 'subsample': 0.48},\n",
       "  mean: 0.53110, std: 0.04119, params: {'colsample_bytree': 0.07, 'subsample': 0.31},\n",
       "  mean: 0.53116, std: 0.03836, params: {'colsample_bytree': 0.07, 'subsample': 0.32},\n",
       "  mean: 0.54102, std: 0.03774, params: {'colsample_bytree': 0.07, 'subsample': 0.33},\n",
       "  mean: 0.53241, std: 0.02749, params: {'colsample_bytree': 0.07, 'subsample': 0.34},\n",
       "  mean: 0.52512, std: 0.03791, params: {'colsample_bytree': 0.07, 'subsample': 0.35},\n",
       "  mean: 0.52654, std: 0.03452, params: {'colsample_bytree': 0.07, 'subsample': 0.36},\n",
       "  mean: 0.54073, std: 0.03253, params: {'colsample_bytree': 0.07, 'subsample': 0.37},\n",
       "  mean: 0.54609, std: 0.03266, params: {'colsample_bytree': 0.07, 'subsample': 0.38},\n",
       "  mean: 0.54474, std: 0.04573, params: {'colsample_bytree': 0.07, 'subsample': 0.39},\n",
       "  mean: 0.53954, std: 0.03031, params: {'colsample_bytree': 0.07, 'subsample': 0.4},\n",
       "  mean: 0.53912, std: 0.03441, params: {'colsample_bytree': 0.07, 'subsample': 0.41},\n",
       "  mean: 0.54979, std: 0.03874, params: {'colsample_bytree': 0.07, 'subsample': 0.42},\n",
       "  mean: 0.53693, std: 0.03060, params: {'colsample_bytree': 0.07, 'subsample': 0.43},\n",
       "  mean: 0.52849, std: 0.03926, params: {'colsample_bytree': 0.07, 'subsample': 0.44},\n",
       "  mean: 0.52920, std: 0.03488, params: {'colsample_bytree': 0.07, 'subsample': 0.45},\n",
       "  mean: 0.53662, std: 0.03389, params: {'colsample_bytree': 0.07, 'subsample': 0.46},\n",
       "  mean: 0.54185, std: 0.03837, params: {'colsample_bytree': 0.07, 'subsample': 0.47},\n",
       "  mean: 0.53120, std: 0.02783, params: {'colsample_bytree': 0.07, 'subsample': 0.48},\n",
       "  mean: 0.53110, std: 0.04119, params: {'colsample_bytree': 0.08, 'subsample': 0.31},\n",
       "  mean: 0.53116, std: 0.03836, params: {'colsample_bytree': 0.08, 'subsample': 0.32},\n",
       "  mean: 0.54102, std: 0.03774, params: {'colsample_bytree': 0.08, 'subsample': 0.33},\n",
       "  mean: 0.53241, std: 0.02749, params: {'colsample_bytree': 0.08, 'subsample': 0.34},\n",
       "  mean: 0.52512, std: 0.03791, params: {'colsample_bytree': 0.08, 'subsample': 0.35},\n",
       "  mean: 0.52654, std: 0.03452, params: {'colsample_bytree': 0.08, 'subsample': 0.36},\n",
       "  mean: 0.54073, std: 0.03253, params: {'colsample_bytree': 0.08, 'subsample': 0.37},\n",
       "  mean: 0.54609, std: 0.03266, params: {'colsample_bytree': 0.08, 'subsample': 0.38},\n",
       "  mean: 0.54474, std: 0.04573, params: {'colsample_bytree': 0.08, 'subsample': 0.39},\n",
       "  mean: 0.53954, std: 0.03031, params: {'colsample_bytree': 0.08, 'subsample': 0.4},\n",
       "  mean: 0.53912, std: 0.03441, params: {'colsample_bytree': 0.08, 'subsample': 0.41},\n",
       "  mean: 0.54979, std: 0.03874, params: {'colsample_bytree': 0.08, 'subsample': 0.42},\n",
       "  mean: 0.53693, std: 0.03060, params: {'colsample_bytree': 0.08, 'subsample': 0.43},\n",
       "  mean: 0.52849, std: 0.03926, params: {'colsample_bytree': 0.08, 'subsample': 0.44},\n",
       "  mean: 0.52920, std: 0.03488, params: {'colsample_bytree': 0.08, 'subsample': 0.45},\n",
       "  mean: 0.53662, std: 0.03389, params: {'colsample_bytree': 0.08, 'subsample': 0.46},\n",
       "  mean: 0.54185, std: 0.03837, params: {'colsample_bytree': 0.08, 'subsample': 0.47},\n",
       "  mean: 0.53120, std: 0.02783, params: {'colsample_bytree': 0.08, 'subsample': 0.48},\n",
       "  mean: 0.53110, std: 0.04119, params: {'colsample_bytree': 0.09, 'subsample': 0.31},\n",
       "  mean: 0.53116, std: 0.03836, params: {'colsample_bytree': 0.09, 'subsample': 0.32},\n",
       "  mean: 0.54102, std: 0.03774, params: {'colsample_bytree': 0.09, 'subsample': 0.33},\n",
       "  mean: 0.53241, std: 0.02749, params: {'colsample_bytree': 0.09, 'subsample': 0.34},\n",
       "  mean: 0.52512, std: 0.03791, params: {'colsample_bytree': 0.09, 'subsample': 0.35},\n",
       "  mean: 0.52654, std: 0.03452, params: {'colsample_bytree': 0.09, 'subsample': 0.36},\n",
       "  mean: 0.54073, std: 0.03253, params: {'colsample_bytree': 0.09, 'subsample': 0.37},\n",
       "  mean: 0.54609, std: 0.03266, params: {'colsample_bytree': 0.09, 'subsample': 0.38},\n",
       "  mean: 0.54474, std: 0.04573, params: {'colsample_bytree': 0.09, 'subsample': 0.39},\n",
       "  mean: 0.53954, std: 0.03031, params: {'colsample_bytree': 0.09, 'subsample': 0.4},\n",
       "  mean: 0.53912, std: 0.03441, params: {'colsample_bytree': 0.09, 'subsample': 0.41},\n",
       "  mean: 0.54979, std: 0.03874, params: {'colsample_bytree': 0.09, 'subsample': 0.42},\n",
       "  mean: 0.53693, std: 0.03060, params: {'colsample_bytree': 0.09, 'subsample': 0.43},\n",
       "  mean: 0.52849, std: 0.03926, params: {'colsample_bytree': 0.09, 'subsample': 0.44},\n",
       "  mean: 0.52920, std: 0.03488, params: {'colsample_bytree': 0.09, 'subsample': 0.45},\n",
       "  mean: 0.53662, std: 0.03389, params: {'colsample_bytree': 0.09, 'subsample': 0.46},\n",
       "  mean: 0.54185, std: 0.03837, params: {'colsample_bytree': 0.09, 'subsample': 0.47},\n",
       "  mean: 0.53120, std: 0.02783, params: {'colsample_bytree': 0.09, 'subsample': 0.48},\n",
       "  mean: 0.53110, std: 0.04119, params: {'colsample_bytree': 0.1, 'subsample': 0.31},\n",
       "  mean: 0.53116, std: 0.03836, params: {'colsample_bytree': 0.1, 'subsample': 0.32},\n",
       "  mean: 0.54102, std: 0.03774, params: {'colsample_bytree': 0.1, 'subsample': 0.33},\n",
       "  mean: 0.53241, std: 0.02749, params: {'colsample_bytree': 0.1, 'subsample': 0.34},\n",
       "  mean: 0.52512, std: 0.03791, params: {'colsample_bytree': 0.1, 'subsample': 0.35},\n",
       "  mean: 0.52654, std: 0.03452, params: {'colsample_bytree': 0.1, 'subsample': 0.36},\n",
       "  mean: 0.54073, std: 0.03253, params: {'colsample_bytree': 0.1, 'subsample': 0.37},\n",
       "  mean: 0.54609, std: 0.03266, params: {'colsample_bytree': 0.1, 'subsample': 0.38},\n",
       "  mean: 0.54474, std: 0.04573, params: {'colsample_bytree': 0.1, 'subsample': 0.39},\n",
       "  mean: 0.53954, std: 0.03031, params: {'colsample_bytree': 0.1, 'subsample': 0.4},\n",
       "  mean: 0.53912, std: 0.03441, params: {'colsample_bytree': 0.1, 'subsample': 0.41},\n",
       "  mean: 0.54979, std: 0.03874, params: {'colsample_bytree': 0.1, 'subsample': 0.42},\n",
       "  mean: 0.53693, std: 0.03060, params: {'colsample_bytree': 0.1, 'subsample': 0.43},\n",
       "  mean: 0.52849, std: 0.03926, params: {'colsample_bytree': 0.1, 'subsample': 0.44},\n",
       "  mean: 0.52920, std: 0.03488, params: {'colsample_bytree': 0.1, 'subsample': 0.45},\n",
       "  mean: 0.53662, std: 0.03389, params: {'colsample_bytree': 0.1, 'subsample': 0.46},\n",
       "  mean: 0.54185, std: 0.03837, params: {'colsample_bytree': 0.1, 'subsample': 0.47},\n",
       "  mean: 0.53120, std: 0.02783, params: {'colsample_bytree': 0.1, 'subsample': 0.48},\n",
       "  mean: 0.53110, std: 0.04119, params: {'colsample_bytree': 0.11, 'subsample': 0.31},\n",
       "  mean: 0.53116, std: 0.03836, params: {'colsample_bytree': 0.11, 'subsample': 0.32},\n",
       "  mean: 0.54102, std: 0.03774, params: {'colsample_bytree': 0.11, 'subsample': 0.33},\n",
       "  mean: 0.53241, std: 0.02749, params: {'colsample_bytree': 0.11, 'subsample': 0.34},\n",
       "  mean: 0.52512, std: 0.03791, params: {'colsample_bytree': 0.11, 'subsample': 0.35},\n",
       "  mean: 0.52654, std: 0.03452, params: {'colsample_bytree': 0.11, 'subsample': 0.36},\n",
       "  mean: 0.54073, std: 0.03253, params: {'colsample_bytree': 0.11, 'subsample': 0.37},\n",
       "  mean: 0.54609, std: 0.03266, params: {'colsample_bytree': 0.11, 'subsample': 0.38},\n",
       "  mean: 0.54474, std: 0.04573, params: {'colsample_bytree': 0.11, 'subsample': 0.39},\n",
       "  mean: 0.53954, std: 0.03031, params: {'colsample_bytree': 0.11, 'subsample': 0.4},\n",
       "  mean: 0.53912, std: 0.03441, params: {'colsample_bytree': 0.11, 'subsample': 0.41},\n",
       "  mean: 0.54979, std: 0.03874, params: {'colsample_bytree': 0.11, 'subsample': 0.42},\n",
       "  mean: 0.53693, std: 0.03060, params: {'colsample_bytree': 0.11, 'subsample': 0.43},\n",
       "  mean: 0.52849, std: 0.03926, params: {'colsample_bytree': 0.11, 'subsample': 0.44},\n",
       "  mean: 0.52920, std: 0.03488, params: {'colsample_bytree': 0.11, 'subsample': 0.45},\n",
       "  mean: 0.53662, std: 0.03389, params: {'colsample_bytree': 0.11, 'subsample': 0.46},\n",
       "  mean: 0.54185, std: 0.03837, params: {'colsample_bytree': 0.11, 'subsample': 0.47},\n",
       "  mean: 0.53120, std: 0.02783, params: {'colsample_bytree': 0.11, 'subsample': 0.48},\n",
       "  mean: 0.53110, std: 0.04119, params: {'colsample_bytree': 0.12, 'subsample': 0.31},\n",
       "  mean: 0.53116, std: 0.03836, params: {'colsample_bytree': 0.12, 'subsample': 0.32},\n",
       "  mean: 0.54102, std: 0.03774, params: {'colsample_bytree': 0.12, 'subsample': 0.33},\n",
       "  mean: 0.53241, std: 0.02749, params: {'colsample_bytree': 0.12, 'subsample': 0.34},\n",
       "  mean: 0.52512, std: 0.03791, params: {'colsample_bytree': 0.12, 'subsample': 0.35},\n",
       "  mean: 0.52654, std: 0.03452, params: {'colsample_bytree': 0.12, 'subsample': 0.36},\n",
       "  mean: 0.54073, std: 0.03253, params: {'colsample_bytree': 0.12, 'subsample': 0.37},\n",
       "  mean: 0.54609, std: 0.03266, params: {'colsample_bytree': 0.12, 'subsample': 0.38},\n",
       "  mean: 0.54474, std: 0.04573, params: {'colsample_bytree': 0.12, 'subsample': 0.39},\n",
       "  mean: 0.53954, std: 0.03031, params: {'colsample_bytree': 0.12, 'subsample': 0.4},\n",
       "  mean: 0.53912, std: 0.03441, params: {'colsample_bytree': 0.12, 'subsample': 0.41},\n",
       "  mean: 0.54979, std: 0.03874, params: {'colsample_bytree': 0.12, 'subsample': 0.42},\n",
       "  mean: 0.53693, std: 0.03060, params: {'colsample_bytree': 0.12, 'subsample': 0.43},\n",
       "  mean: 0.52849, std: 0.03926, params: {'colsample_bytree': 0.12, 'subsample': 0.44},\n",
       "  mean: 0.52920, std: 0.03488, params: {'colsample_bytree': 0.12, 'subsample': 0.45},\n",
       "  mean: 0.53662, std: 0.03389, params: {'colsample_bytree': 0.12, 'subsample': 0.46},\n",
       "  mean: 0.54185, std: 0.03837, params: {'colsample_bytree': 0.12, 'subsample': 0.47},\n",
       "  mean: 0.53120, std: 0.02783, params: {'colsample_bytree': 0.12, 'subsample': 0.48},\n",
       "  mean: 0.53110, std: 0.04119, params: {'colsample_bytree': 0.13, 'subsample': 0.31},\n",
       "  mean: 0.53116, std: 0.03836, params: {'colsample_bytree': 0.13, 'subsample': 0.32},\n",
       "  mean: 0.54102, std: 0.03774, params: {'colsample_bytree': 0.13, 'subsample': 0.33},\n",
       "  mean: 0.53241, std: 0.02749, params: {'colsample_bytree': 0.13, 'subsample': 0.34},\n",
       "  mean: 0.52512, std: 0.03791, params: {'colsample_bytree': 0.13, 'subsample': 0.35},\n",
       "  mean: 0.52654, std: 0.03452, params: {'colsample_bytree': 0.13, 'subsample': 0.36},\n",
       "  mean: 0.54073, std: 0.03253, params: {'colsample_bytree': 0.13, 'subsample': 0.37},\n",
       "  mean: 0.54609, std: 0.03266, params: {'colsample_bytree': 0.13, 'subsample': 0.38},\n",
       "  mean: 0.54474, std: 0.04573, params: {'colsample_bytree': 0.13, 'subsample': 0.39},\n",
       "  mean: 0.53954, std: 0.03031, params: {'colsample_bytree': 0.13, 'subsample': 0.4},\n",
       "  mean: 0.53912, std: 0.03441, params: {'colsample_bytree': 0.13, 'subsample': 0.41},\n",
       "  mean: 0.54979, std: 0.03874, params: {'colsample_bytree': 0.13, 'subsample': 0.42},\n",
       "  mean: 0.53693, std: 0.03060, params: {'colsample_bytree': 0.13, 'subsample': 0.43},\n",
       "  mean: 0.52849, std: 0.03926, params: {'colsample_bytree': 0.13, 'subsample': 0.44},\n",
       "  mean: 0.52920, std: 0.03488, params: {'colsample_bytree': 0.13, 'subsample': 0.45},\n",
       "  mean: 0.53662, std: 0.03389, params: {'colsample_bytree': 0.13, 'subsample': 0.46},\n",
       "  mean: 0.54185, std: 0.03837, params: {'colsample_bytree': 0.13, 'subsample': 0.47},\n",
       "  mean: 0.53120, std: 0.02783, params: {'colsample_bytree': 0.13, 'subsample': 0.48},\n",
       "  mean: 0.53110, std: 0.04119, params: {'colsample_bytree': 0.14, 'subsample': 0.31},\n",
       "  mean: 0.53116, std: 0.03836, params: {'colsample_bytree': 0.14, 'subsample': 0.32},\n",
       "  mean: 0.54102, std: 0.03774, params: {'colsample_bytree': 0.14, 'subsample': 0.33},\n",
       "  mean: 0.53241, std: 0.02749, params: {'colsample_bytree': 0.14, 'subsample': 0.34},\n",
       "  mean: 0.52512, std: 0.03791, params: {'colsample_bytree': 0.14, 'subsample': 0.35},\n",
       "  mean: 0.52654, std: 0.03452, params: {'colsample_bytree': 0.14, 'subsample': 0.36},\n",
       "  mean: 0.54073, std: 0.03253, params: {'colsample_bytree': 0.14, 'subsample': 0.37},\n",
       "  mean: 0.54609, std: 0.03266, params: {'colsample_bytree': 0.14, 'subsample': 0.38},\n",
       "  mean: 0.54474, std: 0.04573, params: {'colsample_bytree': 0.14, 'subsample': 0.39},\n",
       "  mean: 0.53954, std: 0.03031, params: {'colsample_bytree': 0.14, 'subsample': 0.4},\n",
       "  mean: 0.53912, std: 0.03441, params: {'colsample_bytree': 0.14, 'subsample': 0.41},\n",
       "  mean: 0.54979, std: 0.03874, params: {'colsample_bytree': 0.14, 'subsample': 0.42},\n",
       "  mean: 0.53693, std: 0.03060, params: {'colsample_bytree': 0.14, 'subsample': 0.43},\n",
       "  mean: 0.52849, std: 0.03926, params: {'colsample_bytree': 0.14, 'subsample': 0.44},\n",
       "  mean: 0.52920, std: 0.03488, params: {'colsample_bytree': 0.14, 'subsample': 0.45},\n",
       "  mean: 0.53662, std: 0.03389, params: {'colsample_bytree': 0.14, 'subsample': 0.46},\n",
       "  mean: 0.54185, std: 0.03837, params: {'colsample_bytree': 0.14, 'subsample': 0.47},\n",
       "  mean: 0.53120, std: 0.02783, params: {'colsample_bytree': 0.14, 'subsample': 0.48}],\n",
       " {'colsample_bytree': 0.01, 'subsample': 0.42},\n",
       " 0.5497949160827766)"
      ]
     },
     "execution_count": 17,
     "metadata": {},
     "output_type": "execute_result"
    }
   ],
   "source": [
    "param_test5 = {\n",
    " 'subsample':[i/100.0 for i in range(31,49)],\n",
    " 'colsample_bytree':[i/100.0 for i in range(1,15)]\n",
    "}\n",
    "gsearch5 = GridSearchCV(estimator = XGBClassifier( learning_rate =0.1, n_estimators=177, max_depth=5,\n",
    " min_child_weight=5, gamma=0, subsample=0.8, colsample_bytree=0.8,\n",
    " objective= 'binary:logistic', nthread=4, scale_pos_weight=1,seed=27), \n",
    " param_grid = param_test5, scoring='roc_auc',n_jobs=4,iid=False, cv=5)\n",
    "gsearch5.fit(X_train,y_train)\n",
    "gsearch5.grid_scores_, gsearch5.best_params_, gsearch5.best_score_"
   ]
  },
  {
   "cell_type": "markdown",
   "metadata": {},
   "source": [
    "### Values found for :\n",
    " - colsample_bytree : 0.01\n",
    " \n",
    " - subsample : 0.42\n",
    " \n",
    "We search again within smaller ranges of colsample_bytree"
   ]
  },
  {
   "cell_type": "code",
   "execution_count": 26,
   "metadata": {},
   "outputs": [
    {
     "data": {
      "text/plain": [
       "([mean: 0.54979, std: 0.03874, params: {'colsample_bytree': 0.0001},\n",
       "  mean: 0.54979, std: 0.03874, params: {'colsample_bytree': 0.001},\n",
       "  mean: 0.54979, std: 0.03874, params: {'colsample_bytree': 0.01},\n",
       "  mean: 0.54979, std: 0.03874, params: {'colsample_bytree': 0.1},\n",
       "  mean: 0.54979, std: 0.03874, params: {'colsample_bytree': 0.2}],\n",
       " {'colsample_bytree': 0.0001},\n",
       " 0.5497949160827766)"
      ]
     },
     "execution_count": 26,
     "metadata": {},
     "output_type": "execute_result"
    }
   ],
   "source": [
    "param_test5b = {\n",
    " 'colsample_bytree':[1e-4,1e-3,1e-2,1e-1,2e-1]\n",
    "}\n",
    "gsearch5b = GridSearchCV(estimator = XGBClassifier( learning_rate =0.1, n_estimators=177, max_depth=5,\n",
    " min_child_weight=5, gamma=0, subsample=0.42, colsample_bytree=0.8,\n",
    " objective= 'binary:logistic', nthread=4, scale_pos_weight=1,seed=27), \n",
    " param_grid = param_test5b, scoring='roc_auc',n_jobs=4,iid=False, cv=5)\n",
    "gsearch5b.fit(X_train,y_train)\n",
    "gsearch5b.grid_scores_, gsearch5b.best_params_, gsearch5b.best_score_"
   ]
  },
  {
   "cell_type": "markdown",
   "metadata": {},
   "source": [
    "## Tune regularization parameter :\n",
    "  - alpha [default=0]\n",
    "  \n",
    "L1 regularization term on weight (analogous to Lasso regression)\n",
    "\n",
    "Can be used in case of very high dimensionality so that the algorithm runs faster when implemented"
   ]
  },
  {
   "cell_type": "code",
   "execution_count": 19,
   "metadata": {},
   "outputs": [
    {
     "data": {
      "text/plain": [
       "([mean: 0.54979, std: 0.03874, params: {'reg_alpha': 1e-05},\n",
       "  mean: 0.54490, std: 0.03643, params: {'reg_alpha': 0.01},\n",
       "  mean: 0.54655, std: 0.02780, params: {'reg_alpha': 0.1},\n",
       "  mean: 0.54196, std: 0.03621, params: {'reg_alpha': 1},\n",
       "  mean: 0.50000, std: 0.00000, params: {'reg_alpha': 100}],\n",
       " {'reg_alpha': 1e-05},\n",
       " 0.5497949160827766)"
      ]
     },
     "execution_count": 19,
     "metadata": {},
     "output_type": "execute_result"
    }
   ],
   "source": [
    "param_test6 = {\n",
    "    'reg_alpha':[1e-5, 1e-2, 0.1, 1, 100]\n",
    "}\n",
    "gsearch6 = GridSearchCV(estimator = XGBClassifier( learning_rate =0.1, n_estimators=177, max_depth=5,\n",
    "                                        min_child_weight=5, gamma=0, subsample=0.42, colsample_bytree=0.01,\n",
    "                                        objective= 'binary:logistic', nthread=4, scale_pos_weight=1,seed=27), \n",
    "                       param_grid = param_test6, scoring='roc_auc',n_jobs=4,iid=False, cv=5)\n",
    "gsearch6.fit(X_train,y_train)\n",
    "gsearch6.grid_scores_, gsearch6.best_params_, gsearch6.best_score_"
   ]
  },
  {
   "cell_type": "markdown",
   "metadata": {},
   "source": [
    "### Value found for :\n",
    " - reg_alpha : 1e-5\n",
    " \n",
    "We search again within smaller ranges of this parameter"
   ]
  },
  {
   "cell_type": "code",
   "execution_count": 20,
   "metadata": {},
   "outputs": [
    {
     "data": {
      "text/plain": [
       "([mean: 0.50208, std: 0.02488, params: {'reg_alpha': 0},\n",
       "  mean: 0.50208, std: 0.02488, params: {'reg_alpha': 1e-06},\n",
       "  mean: 0.50208, std: 0.02488, params: {'reg_alpha': 5e-06},\n",
       "  mean: 0.50208, std: 0.02488, params: {'reg_alpha': 1e-05},\n",
       "  mean: 0.50208, std: 0.02488, params: {'reg_alpha': 5e-05}],\n",
       " {'reg_alpha': 0},\n",
       " 0.5020831024930748)"
      ]
     },
     "execution_count": 20,
     "metadata": {},
     "output_type": "execute_result"
    }
   ],
   "source": [
    "param_test7 = {\n",
    " 'reg_alpha':[0, 1e-6, 5e-6, 1e-5, 5e-5]\n",
    "}\n",
    "gsearch7 = GridSearchCV(estimator = XGBClassifier( learning_rate =0.1, n_estimators=177, max_depth=5,\n",
    " min_child_weight=5, gamma=0, subsample=0.01, colsample_bytree=0.42,\n",
    " objective= 'binary:logistic', nthread=4, scale_pos_weight=1,seed=27), \n",
    " param_grid = param_test7, scoring='roc_auc',n_jobs=4,iid=False, cv=5)\n",
    "gsearch7.fit(X_train,y_train)\n",
    "gsearch7.grid_scores_, gsearch7.best_params_, gsearch7.best_score_"
   ]
  },
  {
   "cell_type": "markdown",
   "metadata": {},
   "source": [
    "## Tune parameter :\n",
    " - reg_lambda [default=1]\n",
    " \n",
    "L2 regularization term on weights (analogous to Ridge regression)\n",
    "\n",
    "This used to handle the regularization part of XGBoost. Though many data scientists don’t use it often, it should be explored to reduce overfitting."
   ]
  },
  {
   "cell_type": "code",
   "execution_count": 21,
   "metadata": {},
   "outputs": [
    {
     "data": {
      "text/plain": [
       "([mean: 0.53992, std: 0.03553, params: {'reg_lambda': 1e-05},\n",
       "  mean: 0.55079, std: 0.04028, params: {'reg_lambda': 0.01},\n",
       "  mean: 0.54042, std: 0.03770, params: {'reg_lambda': 0.1},\n",
       "  mean: 0.54979, std: 0.03874, params: {'reg_lambda': 1},\n",
       "  mean: 0.52032, std: 0.01014, params: {'reg_lambda': 100}],\n",
       " {'reg_lambda': 0.01},\n",
       " 0.5507912139481832)"
      ]
     },
     "execution_count": 21,
     "metadata": {},
     "output_type": "execute_result"
    }
   ],
   "source": [
    "param_test8 = {\n",
    "    'reg_lambda':[1e-5, 1e-2, 0.1, 1, 100]\n",
    "}\n",
    "gsearch8 = GridSearchCV(estimator = XGBClassifier( learning_rate =0.1, n_estimators=177, max_depth=5,\n",
    "                                        min_child_weight=5, gamma=0, subsample=0.42, colsample_bytree=0.01,\n",
    "                                        objective= 'binary:logistic', nthread=4, scale_pos_weight=1,seed=27), \n",
    "                       param_grid = param_test8, scoring='roc_auc',n_jobs=4,iid=False, cv=5)\n",
    "gsearch8.fit(X_train,y_train)\n",
    "gsearch8.grid_scores_, gsearch8.best_params_, gsearch8.best_score_"
   ]
  },
  {
   "cell_type": "markdown",
   "metadata": {},
   "source": [
    "### Value found for :\n",
    " - reg_lambda : 1e-2\n",
    " \n",
    "We search again within smaller ranges of this parameter"
   ]
  },
  {
   "cell_type": "code",
   "execution_count": 28,
   "metadata": {},
   "outputs": [
    {
     "data": {
      "text/plain": [
       "([mean: 0.53976, std: 0.03648, params: {'reg_lambda': 0.001},\n",
       "  mean: 0.53992, std: 0.03464, params: {'reg_lambda': 0.002},\n",
       "  mean: 0.53948, std: 0.03400, params: {'reg_lambda': 0.003},\n",
       "  mean: 0.54078, std: 0.03185, params: {'reg_lambda': 0.004},\n",
       "  mean: 0.54193, std: 0.03186, params: {'reg_lambda': 0.005},\n",
       "  mean: 0.54170, std: 0.03185, params: {'reg_lambda': 0.006},\n",
       "  mean: 0.53942, std: 0.03024, params: {'reg_lambda': 0.007},\n",
       "  mean: 0.54457, std: 0.03241, params: {'reg_lambda': 0.008},\n",
       "  mean: 0.54932, std: 0.03894, params: {'reg_lambda': 0.009},\n",
       "  mean: 0.55079, std: 0.04028, params: {'reg_lambda': 0.01},\n",
       "  mean: 0.55167, std: 0.03999, params: {'reg_lambda': 0.011},\n",
       "  mean: 0.54996, std: 0.04045, params: {'reg_lambda': 0.012},\n",
       "  mean: 0.54722, std: 0.04128, params: {'reg_lambda': 0.013},\n",
       "  mean: 0.54832, std: 0.04178, params: {'reg_lambda': 0.014}],\n",
       " {'reg_lambda': 0.011},\n",
       " 0.551665668195256)"
      ]
     },
     "execution_count": 28,
     "metadata": {},
     "output_type": "execute_result"
    }
   ],
   "source": [
    "param_test8b = {\n",
    " 'reg_lambda':[i/1000.0 for i in range(1,15)]\n",
    "}\n",
    "gsearch8b = GridSearchCV(estimator = XGBClassifier( learning_rate =0.1, n_estimators=177, max_depth=5,\n",
    " min_child_weight=5, gamma=0, subsample=0.42, colsample_bytree=0.01,\n",
    " objective= 'binary:logistic', nthread=4, scale_pos_weight=1,seed=27), \n",
    " param_grid = param_test8b, scoring='roc_auc',n_jobs=4,iid=False, cv=5)\n",
    "gsearch8b.fit(X_train,y_train)\n",
    "gsearch8b.grid_scores_, gsearch8b.best_params_, gsearch8b.best_score_"
   ]
  },
  {
   "cell_type": "markdown",
   "metadata": {},
   "source": [
    "## Apply this regularization in the model"
   ]
  },
  {
   "cell_type": "code",
   "execution_count": 30,
   "metadata": {},
   "outputs": [
    {
     "name": "stdout",
     "output_type": "stream",
     "text": [
      "\n",
      "Model Report\n",
      "Training Accuracy : 0.8872\n",
      "Confusion Matrix for Train :  [[2094  281]\n",
      " [ 255 2121]]\n",
      "AUC Score (Train): 0.959033\n",
      "Test Accuracy : 0.4924\n",
      "Confusion Matrix for Test :  [[318 477]\n",
      " [327 462]]\n",
      "AUC Score (Test): 0.508448\n"
     ]
    },
    {
     "name": "stderr",
     "output_type": "stream",
     "text": [
      "C:\\ProgramData\\Anaconda3\\envs\\tensorflow\\lib\\site-packages\\sklearn\\preprocessing\\label.py:151: DeprecationWarning: The truth value of an empty array is ambiguous. Returning False, but in future this will result in an error. Use `array.size > 0` to check that an array is not empty.\n",
      "  if diff:\n",
      "C:\\ProgramData\\Anaconda3\\envs\\tensorflow\\lib\\site-packages\\sklearn\\preprocessing\\label.py:151: DeprecationWarning: The truth value of an empty array is ambiguous. Returning False, but in future this will result in an error. Use `array.size > 0` to check that an array is not empty.\n",
      "  if diff:\n"
     ]
    }
   ],
   "source": [
    "xgb3 = XGBClassifier(\n",
    " learning_rate =0.1,\n",
    " n_estimators=1000,\n",
    " max_depth=5,\n",
    " min_child_weight=5,\n",
    " gamma=0,\n",
    " subsample=0.42,\n",
    " colsample_bytree=0.01,\n",
    " reg_alpha=0,\n",
    " reg_lambda = 0.011,\n",
    " objective= 'binary:logistic',\n",
    " nthread=4,\n",
    " scale_pos_weight=1,\n",
    " seed=27)\n",
    "modelfit(xgb3)"
   ]
  },
  {
   "cell_type": "markdown",
   "metadata": {},
   "source": [
    "## Reducing Learning Rate to 0.01"
   ]
  },
  {
   "cell_type": "code",
   "execution_count": 31,
   "metadata": {},
   "outputs": [
    {
     "name": "stdout",
     "output_type": "stream",
     "text": [
      "\n",
      "Model Report\n",
      "Training Accuracy : 0.848\n",
      "Confusion Matrix for Train :  [[1993  382]\n",
      " [ 340 2036]]\n",
      "AUC Score (Train): 0.925536\n",
      "Test Accuracy : 0.5025\n",
      "Confusion Matrix for Test :  [[243 552]\n",
      " [236 553]]\n",
      "AUC Score (Test): 0.510305\n"
     ]
    },
    {
     "name": "stderr",
     "output_type": "stream",
     "text": [
      "C:\\ProgramData\\Anaconda3\\envs\\tensorflow\\lib\\site-packages\\sklearn\\preprocessing\\label.py:151: DeprecationWarning: The truth value of an empty array is ambiguous. Returning False, but in future this will result in an error. Use `array.size > 0` to check that an array is not empty.\n",
      "  if diff:\n",
      "C:\\ProgramData\\Anaconda3\\envs\\tensorflow\\lib\\site-packages\\sklearn\\preprocessing\\label.py:151: DeprecationWarning: The truth value of an empty array is ambiguous. Returning False, but in future this will result in an error. Use `array.size > 0` to check that an array is not empty.\n",
      "  if diff:\n"
     ]
    }
   ],
   "source": [
    "xgb4 = XGBClassifier(\n",
    " learning_rate =0.01,\n",
    " n_estimators=1000,\n",
    " max_depth=5,\n",
    " min_child_weight=5,\n",
    " gamma=0,\n",
    " subsample=0.42,\n",
    " colsample_bytree=0.01,\n",
    " reg_alpha=0,\n",
    " reg_lambda = 0.011,\n",
    " objective= 'binary:logistic',\n",
    " nthread=4,\n",
    " scale_pos_weight=1,\n",
    " seed=27)\n",
    "modelfit(xgb4)"
   ]
  },
  {
   "cell_type": "markdown",
   "metadata": {},
   "source": [
    "## Conclusion : \n",
    "\n",
    "### Training accuracy found : 84.8%\n",
    "\n",
    "### Test accuracy found : 50.25%"
   ]
  }
 ],
 "metadata": {
  "kernelspec": {
   "display_name": "Python 3",
   "language": "python",
   "name": "python3"
  },
  "language_info": {
   "codemirror_mode": {
    "name": "ipython",
    "version": 3
   },
   "file_extension": ".py",
   "mimetype": "text/x-python",
   "name": "python",
   "nbconvert_exporter": "python",
   "pygments_lexer": "ipython3",
   "version": "3.6.4"
  }
 },
 "nbformat": 4,
 "nbformat_minor": 2
}
